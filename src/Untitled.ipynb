{
 "cells": [
  {
   "cell_type": "code",
   "execution_count": 1,
   "id": "1d111533",
   "metadata": {},
   "outputs": [],
   "source": [
    "DATASET_NAME = \"Deco\"\n",
    "\n",
    "DATA_DIR = \"data\"\n",
    "REFINED_PATH = f\"../output/{DATASET_NAME}/refined.json\"\n",
    "PAPER_RESULTS = f\"../output/{DATASET_NAME}/NoTrainingNoSeed\"\n",
    "OWN_RESULTS = f\"../swap/\"\n",
    "from os import listdir\n",
    "from os.path import join, isdir\n",
    "\n",
    "EXPERIMENTS = [d for d in listdir(OWN_RESULTS) if isdir(join(OWN_RESULTS, d))]\n",
    "\n",
    "\n",
    "# EXPERIMENTS = [\"own_data_over_header_2\"]\n",
    "# OWN_RESULTS = \"../output\""
   ]
  },
  {
   "cell_type": "code",
   "execution_count": 2,
   "id": "1122dde8",
   "metadata": {},
   "outputs": [],
   "source": [
    "import json\n",
    "from os.path import join\n",
    "\n",
    "from experiments.Analyser import *\n",
    "from labelregions.BoundingBox import BoundingBox\n",
    "\n",
    "with open(REFINED_PATH) as f:\n",
    "    refined = json.load(f)\n",
    "\n",
    "\n",
    "def paper_results(key):\n",
    "    with open(join(PAPER_RESULTS, f\"{key}_result.json\")) as f:\n",
    "        data = json.load(f)\n",
    "    return result_eval(key, data)\n",
    "\n",
    "\n",
    "def experiment_path(experiment_name):\n",
    "    return join(OWN_RESULTS, experiment_name, DATASET_NAME, \"OWN_NoTrainingNoSeed\")\n",
    "\n",
    "def own_results(key, experiment_name):\n",
    "    with open(join(experiment_path(experiment_name), f\"{key}_result.json\")) as f:\n",
    "        data = json.load(f)\n",
    "    return result_eval(key, data)\n",
    "    \n",
    "    \n",
    "def result_eval(key, data):\n",
    "    ground_truth = [BoundingBox(r[\"top\"], r[\"left\"], r[\"bottom\"], r[\"right\"]) for r in data[\"ground_truth\"]]\n",
    "    detected = [BoundingBox(r[\"top\"], r[\"left\"], r[\"bottom\"], r[\"right\"]) for r in data[\"detected\"]]\n",
    "    \n",
    "    \n",
    "    results = {\n",
    "        **bayesian_scores(ground_truth, detected),\n",
    "        **detection_evaluation(ground_truth, detected),\n",
    "        \"accuracy\": accuracy_based_on_jacard_index(ground_truth, detected)\n",
    "    }\n",
    "    return results"
   ]
  },
  {
   "cell_type": "code",
   "execution_count": 3,
   "id": "c1b181f8",
   "metadata": {},
   "outputs": [],
   "source": [
    "experiment_results = {}\n",
    "\n",
    "for experiment_name in EXPERIMENTS:\n",
    "    file_diffs = {}\n",
    "    metric_diffs = {}\n",
    "\n",
    "    for file in refined.keys():\n",
    "        if refined[file][\"edge_count\"] <= 10:\n",
    "            continue\n",
    "        own = own_results(file, experiment_name)\n",
    "        paper = paper_results(file)\n",
    "\n",
    "        diffs = {}\n",
    "        for key in own.keys():\n",
    "            diff = own[key] - paper[key]\n",
    "\n",
    "            diffs[key] = diff\n",
    "            metric_diffs[key] = metric_diffs.get(key, []) + [diff]\n",
    "        file_diffs[file] = diffs\n",
    "\n",
    "    experiment_results[experiment_name] = {\"file_diffs\": file_diffs, \"metric_diffs\": metric_diffs}"
   ]
  },
  {
   "cell_type": "code",
   "execution_count": 4,
   "id": "fdae011e",
   "metadata": {},
   "outputs": [],
   "source": [
    "multi_table_files = {}\n",
    "single_table_files = {}\n",
    "all_files = {}\n",
    "\n",
    "for experiment_name, data in experiment_results.items():\n",
    "    multi_table_files[experiment_name] = []\n",
    "    single_table_files[experiment_name] = []\n",
    "    all_files[experiment_name] = []\n",
    "    \n",
    "    file_diffs = data[\"file_diffs\"]\n",
    "    for key, value in file_diffs.items():\n",
    "        if refined[key][\"table_count\"] > 1:\n",
    "            multi_table_files[experiment_name].append(value)\n",
    "        else:\n",
    "            single_table_files[experiment_name].append(value)\n",
    "        all_files[experiment_name].append(value)\n",
    "            "
   ]
  },
  {
   "cell_type": "code",
   "execution_count": 5,
   "id": "3d6d4cf0",
   "metadata": {},
   "outputs": [
    {
     "name": "stdout",
     "output_type": "stream",
     "text": [
      "own_same_over_different accuracy\n",
      "\tMulti: 0.03302826285153236, 0.2906241930875952\n",
      "\tSingle: 0.02066115702479339, 0.42189404096818534\n",
      "\tAll: 0.024199827423594805, 0.3885021965096073\n",
      "own_data_over_header accuracy\n",
      "\tMulti: 0.042345769923089506, 0.3356495097912809\n",
      "\tSingle: 0.024793388429752067, 0.39630680761908993\n",
      "\tAll: 0.029815751275928268, 0.37953564749736624\n",
      "own_horizontal_over_vertical_alignment accuracy\n",
      "\tMulti: 0.05354791401096521, 0.33132037151837723\n",
      "\tSingle: 0.012396694214876033, 0.4122743814890515\n",
      "\tAll: 0.0241715270178868, 0.3907900388715444\n"
     ]
    }
   ],
   "source": [
    "from statistics import mean, stdev\n",
    "\n",
    "for experiment_name in EXPERIMENTS:\n",
    "    multi_table_results = multi_table_files[experiment_name]\n",
    "    single_table_results = single_table_files[experiment_name]\n",
    "    all_results = all_files[experiment_name]\n",
    "    \n",
    "    multi_table_accuracy = [v[\"accuracy\"] for v in multi_table_results]\n",
    "    single_table_accuracy = [v[\"accuracy\"] for v in single_table_results]\n",
    "    all_accuracy = [v[\"accuracy\"] for v in all_results]\n",
    "    \n",
    "    print(\"\\n\".join([\n",
    "        f\"{experiment_name} accuracy\",\n",
    "        f\"\\tMulti: {mean(multi_table_accuracy)}, {stdev(multi_table_accuracy)}\",\n",
    "        f\"\\tSingle: {mean(single_table_accuracy)}, {stdev(single_table_accuracy)}\",\n",
    "        f\"\\tAll: {mean(all_accuracy)}, {stdev(all_accuracy)}\",\n",
    "    ]))"
   ]
  },
  {
   "cell_type": "code",
   "execution_count": 6,
   "id": "23a5c7ec",
   "metadata": {},
   "outputs": [
    {
     "name": "stdout",
     "output_type": "stream",
     "text": [
      "own_data_over_header accuracy\n",
      "\tMulti: 0.042345769923089506, 0.3356495097912809\n",
      "\tSingle: 0.024793388429752067, 0.39630680761908993\n",
      "\tAll: 0.029815751275928268, 0.37953564749736624\n"
     ]
    },
    {
     "data": {
      "image/png": "[encoded data removed]",
      "text/plain": [
       "<Figure size 432x288 with 1 Axes>"
      ]
     },
     "metadata": {
      "needs_background": "light"
     },
     "output_type": "display_data"
    }
   ],
   "source": [
    "import matplotlib.pyplot as plt\n",
    "\n",
    "\n",
    "for experiment_name in [\"own_data_over_header\"]:\n",
    "    multi_table_results = multi_table_files[experiment_name]\n",
    "    single_table_results = single_table_files[experiment_name]\n",
    "    all_results = all_files[experiment_name]\n",
    "    \n",
    "    multi_table_accuracy = [v[\"accuracy\"] for v in multi_table_results]\n",
    "    single_table_accuracy = [v[\"accuracy\"] for v in single_table_results]\n",
    "    all_accuracy = [v[\"accuracy\"] for v in all_results]\n",
    "    \n",
    "    print(\"\\n\".join([\n",
    "        f\"{experiment_name} accuracy\",\n",
    "        f\"\\tMulti: {mean(multi_table_accuracy)}, {stdev(multi_table_accuracy)}\",\n",
    "        f\"\\tSingle: {mean(single_table_accuracy)}, {stdev(single_table_accuracy)}\",\n",
    "        f\"\\tAll: {mean(all_accuracy)}, {stdev(all_accuracy)}\",\n",
    "    ]))\n",
    "    plt.hist(all_accuracy)"
   ]
  }
 ],
 "metadata": {
  "kernelspec": {
   "display_name": "Python 3",
   "language": "python",
   "name": "python3"
  },
  "language_info": {
   "codemirror_mode": {
    "name": "ipython",
    "version": 3
   },
   "file_extension": ".py",
   "mimetype": "text/x-python",
   "name": "python",
   "nbconvert_exporter": "python",
   "pygments_lexer": "ipython3",
   "version": "3.8.10"
  }
 },
 "nbformat": 4,
 "nbformat_minor": 5
}
