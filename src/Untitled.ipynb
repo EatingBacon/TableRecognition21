{
 "cells": [
  {
   "cell_type": "code",
   "execution_count": 1,
   "id": "1d111533",
   "metadata": {},
   "outputs": [],
   "source": [
    "DATASET_NAME = \"Deco\"\n",
    "\n",
    "DATA_DIR = \"data\"\n",
    "REFINED_PATH = f\"../output/{DATASET_NAME}/refined.json\"\n",
    "PAPER_RESULTS = f\"../output/{DATASET_NAME}/NoTrainingNoSeed\"\n",
    "OWN_RESULTS = f\"../output/{DATASET_NAME}/OWN_NoTrainingNoSeed\""
   ]
  },
  {
   "cell_type": "code",
   "execution_count": 2,
   "id": "1122dde8",
   "metadata": {},
   "outputs": [],
   "source": [
    "import json\n",
    "from os.path import join\n",
    "\n",
    "from experiments.Analyser import *\n",
    "from labelregions.BoundingBox import BoundingBox\n",
    "\n",
    "with open(REFINED_PATH) as f:\n",
    "    refined = json.load(f)\n",
    "\n",
    "\n",
    "def paper_results(key):\n",
    "    with open(join(PAPER_RESULTS, f\"{key}_result.json\")) as f:\n",
    "        data = json.load(f)\n",
    "    return result_eval(key, data)\n",
    "\n",
    "\n",
    "def own_results(key):\n",
    "    with open(join(OWN_RESULTS, f\"{key}_result.json\")) as f:\n",
    "        data = json.load(f)\n",
    "    return result_eval(key, data)\n",
    "    \n",
    "    \n",
    "def result_eval(key, data):\n",
    "    ground_truth = [BoundingBox(r[\"top\"], r[\"left\"], r[\"bottom\"], r[\"right\"]) for r in data[\"ground_truth\"]]\n",
    "    detected = [BoundingBox(r[\"top\"], r[\"left\"], r[\"bottom\"], r[\"right\"]) for r in data[\"detected\"]]\n",
    "    \n",
    "    \n",
    "    results = {\n",
    "        **bayesian_scores(ground_truth, detected),\n",
    "        **detection_evaluation(ground_truth, detected),\n",
    "        \"accuracy\": accuracy_based_on_jacard_index(ground_truth, detected)\n",
    "    }\n",
    "    return results\n"
   ]
  },
  {
   "cell_type": "code",
   "execution_count": 3,
   "id": "60491123",
   "metadata": {},
   "outputs": [],
   "source": [
    "from os import listdir\n",
    "\n",
    "keys = listdir(OWN_RESULTS)"
   ]
  },
  {
   "cell_type": "code",
   "execution_count": 4,
   "id": "c1b181f8",
   "metadata": {},
   "outputs": [],
   "source": [
    "file_diffs = {}\n",
    "metric_diffs = {}\n",
    "\n",
    "for file in refined.keys():\n",
    "    own = own_results(file)\n",
    "    paper = paper_results(file)\n",
    "    \n",
    "    diffs = {}\n",
    "    for key in own.keys():\n",
    "        diff = own[key] - paper[key]\n",
    "\n",
    "        diffs[key] = diff\n",
    "        metric_diffs[key] = metric_diffs.get(key, []) + [diff]\n",
    "    file_diffs[file] = diffs"
   ]
  }
 ],
 "metadata": {
  "kernelspec": {
   "display_name": "Python 3",
   "language": "python",
   "name": "python3"
  },
  "language_info": {
   "codemirror_mode": {
    "name": "ipython",
    "version": 3
   },
   "file_extension": ".py",
   "mimetype": "text/x-python",
   "name": "python",
   "nbconvert_exporter": "python",
   "pygments_lexer": "ipython3",
   "version": "3.8.6"
  }
 },
 "nbformat": 4,
 "nbformat_minor": 5
}
