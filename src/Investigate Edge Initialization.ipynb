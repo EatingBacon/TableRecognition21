{
 "cells": [
  {
   "cell_type": "markdown",
   "id": "b7f9a031",
   "metadata": {},
   "source": [
    "# Seed Choice Investigation\n",
    "Wont implement the heuristic seed, search for an approximation."
   ]
  },
  {
   "cell_type": "code",
   "execution_count": 1,
   "id": "7e9e69d1",
   "metadata": {},
   "outputs": [],
   "source": [
    "from os.path import join\n",
    "from os import getcwd\n",
    "import json\n",
    "\n",
    "from dataset.Dataset import Dataset\n",
    "from experiments.Analyser import accuracy_based_on_jacard_index\n",
    "from graph.SpreadSheetGraph import SpreadSheetGraph\n",
    "from labelregions.LabelRegionLoader import LabelRegionLoader\n",
    "from search.ExhaustiveSearch import ExhaustiveSearch\n",
    "from search.FitnessRater import FitnessRater, get_initial_weights\n",
    "\n",
    "DATA_DIR = join(getcwd(), \"../data\")\n",
    "OUTPUT_DIR = join(getcwd(), \"output_final/output\")\n",
    "\n",
    "refined_file_path = join(DATA_DIR, \"Deco\", \"refined.json\")\n",
    "with open(refined_file_path) as f:\n",
    "    refined_data = json.load(f)\n",
    "\n",
    "relevant_keys = [key for key, value in refined_data.items()] #  if value[\"edge_count\"] > 10]\n",
    "\n",
    "DECO = Dataset(join(DATA_DIR, \"Deco\"), \"Deco\")\n",
    "\n",
    "loader = LabelRegionLoader()\n"
   ]
  },
  {
   "cell_type": "code",
   "execution_count": 2,
   "id": "031c1293",
   "metadata": {},
   "outputs": [
    {
     "name": "stderr",
     "output_type": "stream",
     "text": [
      "  7%|▋         | 42/622 [00:02<00:25, 22.43it/s]/home/tgarrels/.local/lib/python3.8/site-packages/openpyxl/worksheet/header_footer.py:48: UserWarning: Cannot parse header or footer so it will be ignored\n",
      "  warn(\"\"\"Cannot parse header or footer so it will be ignored\"\"\")\n",
      " 36%|███▌      | 222/622 [00:10<00:24, 16.40it/s]/home/tgarrels/.local/lib/python3.8/site-packages/openpyxl/reader/drawings.py:29: UserWarning: DrawingML support is incomplete and limited to charts and images only. Shapes and drawings will be lost.\n",
      "  warn(\"DrawingML support is incomplete and limited to charts and images only. Shapes and drawings will be lost.\")\n",
      " 51%|█████     | 315/622 [00:16<00:10, 30.02it/s]/home/tgarrels/.local/lib/python3.8/site-packages/openpyxl/reader/drawings.py:55: UserWarning: The image xl/media/image1.emf will be removed because it cannot be read\n",
      "  warn(msg)\n",
      " 91%|█████████▏| 569/622 [00:28<00:02, 25.53it/s]/home/tgarrels/.local/lib/python3.8/site-packages/openpyxl/reader/drawings.py:59: UserWarning: wmf image format is not supported so the image is being dropped\n",
      "  warn(msg)\n",
      "100%|██████████| 622/622 [00:30<00:00, 20.55it/s]\n"
     ]
    }
   ],
   "source": [
    "from tqdm import tqdm\n",
    "\n",
    "graphs = []\n",
    "for relevant_key in tqdm(relevant_keys):\n",
    "    rater = FitnessRater(get_initial_weights())\n",
    "    sheet_data = DECO.get_specific_sheetdata(relevant_key, loader)\n",
    "    graph = SpreadSheetGraph(sheet_data)\n",
    "    graphs.append(graph)"
   ]
  },
  {
   "cell_type": "code",
   "execution_count": 3,
   "id": "b3a6069d",
   "metadata": {},
   "outputs": [
    {
     "name": "stdout",
     "output_type": "stream",
     "text": [
      "ConnectionType.D_H: 3621 / 28179\n",
      "ConnectionType.D_D: 22188 / 28179\n",
      "ConnectionType.H_H: 2370 / 28179\n"
     ]
    }
   ],
   "source": [
    "# Collect edges\n",
    "edges = [edge for graph in graphs for edge in graph.edge_list]\n",
    "edge_types = list(map(lambda x: x.connection_type, edges))\n",
    "\n",
    "for edge_type in set(edge_types):\n",
    "    print(f\"{edge_type}: {edge_types.count(edge_type)} / {len(edge_types)}\")"
   ]
  },
  {
   "cell_type": "code",
   "execution_count": 29,
   "id": "d365b502",
   "metadata": {
    "scrolled": true
   },
   "outputs": [
    {
     "data": {
      "image/png": "[encoded data removed]",
      "text/plain": [
       "<Figure size 1440x216 with 6 Axes>"
      ]
     },
     "metadata": {
      "needs_background": "light"
     },
     "output_type": "display_data"
    }
   ],
   "source": [
    "import matplotlib.pyplot as plt\n",
    "from graph.Edge import ConnectionType\n",
    "\n",
    "type_percentages = {\n",
    "    \"1_10\": {\n",
    "        ConnectionType.D_D: [],\n",
    "        ConnectionType.H_H: [],\n",
    "        ConnectionType.D_H: [],\n",
    "    },\n",
    "    \"10_100\": {\n",
    "        ConnectionType.D_D: [],\n",
    "        ConnectionType.H_H: [],\n",
    "        ConnectionType.D_H: [],\n",
    "    },\n",
    "    \">100\": {\n",
    "        ConnectionType.D_D: [],\n",
    "        ConnectionType.H_H: [],\n",
    "        ConnectionType.D_H: [],\n",
    "    },\n",
    "}\n",
    "plt.rcParams[\"figure.figsize\"] = (20,3)\n",
    "fig, axes = plt.subplots(2,3)\n",
    "for i, only_enabled_edges in enumerate([True, False]):\n",
    "    for graph in graphs:\n",
    "        edges = [\n",
    "            edge\n",
    "            for i, edge in enumerate(graph.edge_list)\n",
    "            if not only_enabled_edges or graph.edge_toggle_list[i]\n",
    "        ]\n",
    "\n",
    "        edge_count_key = \"1_10\"\n",
    "        if 10 < len(edges) <= 100:\n",
    "            edge_count_key = \"10_100\"\n",
    "        if len(edges) > 100:\n",
    "            edge_count_key = \">100\"\n",
    "\n",
    "        edge_types = list(map(lambda x: x.connection_type, edges))\n",
    "        edge_counts = list(zip(\n",
    "            set(type_percentages[edge_count_key].keys()),\n",
    "            [edge_types.count(edge_type) for edge_type in type_percentages[edge_count_key].keys()],\n",
    "        ))\n",
    "\n",
    "\n",
    "        for connection_type in type_percentages[edge_count_key].keys():\n",
    "            type_count = len([edges for edge in edges if edge.connection_type == connection_type])\n",
    "            type_percentages[edge_count_key][connection_type].append(type_count / len(edges))\n",
    "    for j, (key, value) in enumerate(type_percentages.items()):\n",
    "        axes[i][j].boxplot(list(value.values()), labels=list(value.keys()))\n",
    "\n",
    "fig.tight_layout(h_pad=4)"
   ]
  }
 ],
 "metadata": {
  "kernelspec": {
   "display_name": "Python 3",
   "language": "python",
   "name": "python3"
  },
  "language_info": {
   "codemirror_mode": {
    "name": "ipython",
    "version": 3
   },
   "file_extension": ".py",
   "mimetype": "text/x-python",
   "name": "python",
   "nbconvert_exporter": "python",
   "pygments_lexer": "ipython3",
   "version": "3.8.10"
  }
 },
 "nbformat": 4,
 "nbformat_minor": 5
}
