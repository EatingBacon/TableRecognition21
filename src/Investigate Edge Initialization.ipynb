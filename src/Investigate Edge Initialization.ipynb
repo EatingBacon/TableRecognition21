{
 "cells": [
  {
   "cell_type": "code",
   "execution_count": 2,
   "id": "7e9e69d1",
   "metadata": {},
   "outputs": [
    {
     "ename": "FileNotFoundError",
     "evalue": "[Errno 2] No such file or directory: '/home/tgarrels/Projects/TableRecognition21/src/data/Deco/refined.json'",
     "output_type": "error",
     "traceback": [
      "\u001b[0;31m---------------------------------------------------------------------------\u001b[0m",
      "\u001b[0;31mFileNotFoundError\u001b[0m                         Traceback (most recent call last)",
      "\u001b[0;32m<ipython-input-2-143453d3125a>\u001b[0m in \u001b[0;36m<module>\u001b[0;34m\u001b[0m\n\u001b[1;32m     13\u001b[0m \u001b[0;34m\u001b[0m\u001b[0m\n\u001b[1;32m     14\u001b[0m \u001b[0mrefined_file_path\u001b[0m \u001b[0;34m=\u001b[0m \u001b[0mjoin\u001b[0m\u001b[0;34m(\u001b[0m\u001b[0mDATA_DIR\u001b[0m\u001b[0;34m,\u001b[0m \u001b[0;34m\"Deco\"\u001b[0m\u001b[0;34m,\u001b[0m \u001b[0;34m\"refined.json\"\u001b[0m\u001b[0;34m)\u001b[0m\u001b[0;34m\u001b[0m\u001b[0;34m\u001b[0m\u001b[0m\n\u001b[0;32m---> 15\u001b[0;31m \u001b[0;32mwith\u001b[0m \u001b[0mopen\u001b[0m\u001b[0;34m(\u001b[0m\u001b[0mrefined_file_path\u001b[0m\u001b[0;34m)\u001b[0m \u001b[0;32mas\u001b[0m \u001b[0mf\u001b[0m\u001b[0;34m:\u001b[0m\u001b[0;34m\u001b[0m\u001b[0;34m\u001b[0m\u001b[0m\n\u001b[0m\u001b[1;32m     16\u001b[0m     \u001b[0mrefined_data\u001b[0m \u001b[0;34m=\u001b[0m \u001b[0mjson\u001b[0m\u001b[0;34m.\u001b[0m\u001b[0mload\u001b[0m\u001b[0;34m(\u001b[0m\u001b[0mf\u001b[0m\u001b[0;34m)\u001b[0m\u001b[0;34m\u001b[0m\u001b[0;34m\u001b[0m\u001b[0m\n\u001b[1;32m     17\u001b[0m \u001b[0;34m\u001b[0m\u001b[0m\n",
      "\u001b[0;31mFileNotFoundError\u001b[0m: [Errno 2] No such file or directory: '/home/tgarrels/Projects/TableRecognition21/src/data/Deco/refined.json'"
     ]
    }
   ],
   "source": [
    "from os.path import join\n",
    "from os import getcwd\n",
    "\n",
    "from dataset.Dataset import Dataset\n",
    "from experiments.Analyser import accuracy_based_on_jacard_index\n",
    "from graph.SpreadSheetGraph import SpreadSheetGraph\n",
    "from labelregions.LabelRegionLoader import LabelRegionLoader\n",
    "from search.ExhaustiveSearch import ExhaustiveSearch\n",
    "from search.FitnessRater import FitnessRater, get_initial_weights\n",
    "\n",
    "DATA_DIR = join(getcwd(), \"data\")\n",
    "OUTPUT_DIR = join(getcwd(), \"output\")\n",
    "\n",
    "refined_file_path = join(DATA_DIR, \"Deco\", \"refined.json\")\n",
    "with open(refined_file_path) as f:\n",
    "    refined_data = json.load(f)\n",
    "\n",
    "relevant_keys = [key for key, value in refined_data.items() if value[\"edge_count\"] > 10]\n",
    "\n",
    "DECO = Dataset(join(DATA_DIR, \"Deco\"), \"Deco\")\n",
    "\n",
    "loader = LabelRegionLoader()\n",
    "\n",
    "for relevant_key in relevant_keys:\n",
    "    rater = FitnessRater(get_initial_weights())\n",
    "    sheet_data = DECO.get_specific_sheetdata(relevant_key, loader)\n",
    "    graph = SpreadSheetGraph(sheet_data)\n",
    "    ground_truth = graph.get_table_definitions()\n",
    "    search = ExhaustiveSearch(graph, rater)\n",
    "    result = search.run()\n",
    "    acc = accuracy_based_on_jacard_index(ground_truth, result.get_table_definitions())\n"
   ]
  },
  {
   "cell_type": "code",
   "execution_count": null,
   "id": "031c1293",
   "metadata": {},
   "outputs": [],
   "source": []
  }
 ],
 "metadata": {
  "kernelspec": {
   "display_name": "Python 3",
   "language": "python",
   "name": "python3"
  },
  "language_info": {
   "codemirror_mode": {
    "name": "ipython",
    "version": 3
   },
   "file_extension": ".py",
   "mimetype": "text/x-python",
   "name": "python",
   "nbconvert_exporter": "python",
   "pygments_lexer": "ipython3",
   "version": "3.8.10"
  }
 },
 "nbformat": 4,
 "nbformat_minor": 5
}
