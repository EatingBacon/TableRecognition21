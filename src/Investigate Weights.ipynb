{
 "cells": [
  {
   "cell_type": "code",
   "execution_count": 1,
   "id": "7c2c9c61",
   "metadata": {},
   "outputs": [],
   "source": [
    "from os import listdir\n",
    "from os.path import exists, join\n",
    "import json\n",
    "\n",
    "DATA_PATH = \"../data\"\n",
    "OUTPUT_PATH = \"../output\"\n",
    "EXPERIMENT = \"CrossValidationTraining\"\n",
    "DATASETS= [\"Deco\", \"FusTe\"]\n",
    "\n",
    "\n",
    "refined_data = {}\n",
    "for dataset in DATASETS:\n",
    "    refined_file_path = join(DATA_PATH, dataset, \"refined.json\")\n",
    "    with open(refined_file_path) as f:\n",
    "        refined_data[dataset] = json.load(f)\n",
    "        \n",
    "annotation_data = {}\n",
    "for dataset in DATASETS:\n",
    "    annotations_file_path = join(DATA_PATH, dataset, \"annotations_elements.json\")\n",
    "    with open(annotations_file_path) as f:\n",
    "        annotation_data[dataset] = json.load(f)\n",
    "\n",
    "preprocessed_annotation_data = {}\n",
    "for dataset in DATASETS:\n",
    "    annotations_file_path = join(DATA_PATH, dataset, \"preprocessed_annotations_elements.json\")\n",
    "    with open(annotations_file_path) as f:\n",
    "        preprocessed_annotation_data[dataset] = json.load(f)\n",
    "\n",
    "def is_multi_key(key, dataset):\n",
    "    try:\n",
    "        return refined_data[dataset][key][\"table_count\"] > 2\n",
    "    except KeyError:\n",
    "        tables = [region for region in annotation_data[dataset][key][\"regions\"] if region[\"region_type\"] == \"Table\"]\n",
    "        return len(tables) > 2\n",
    "\n",
    "def get_edge_count(key, dataset):\n",
    "    return refined_data[dataset][key][\"edge_count\"]\n",
    "\n",
    "def file_accuracies(experiment_path):\n",
    "    \"\"\"Returns the file accuracies for this experiment\"\"\"\n",
    "    file_accuracies = {}\n",
    "    for fold_num in range(10):\n",
    "        accuracy_file_path = join(\n",
    "            experiment_path,   \n",
    "            f\"fold_{fold_num}\",\n",
    "            f\"fold_{fold_num}_file_accuracies.json\",\n",
    "        )\n",
    "\n",
    "        if not exists(accuracy_file_path):\n",
    "            # Fold was aborted\n",
    "            continue\n",
    "        with open(accuracy_file_path) as f:\n",
    "            fold_file_accuracies = json.load(f)[\"fold_file_accuracies\"]\n",
    "            for key, accuracy in fold_file_accuracies.items():\n",
    "                file_accuracies[key] = accuracy\n",
    "    return file_accuracies\n",
    "\n",
    "def has_noise(experiment_path):\n",
    "    config_file_path = join(\n",
    "            experiment_path,   \n",
    "            \"config.json\",\n",
    "        )\n",
    "    with open(config_file_path) as f:\n",
    "        noise = json.load(f)[\"noise\"]\n",
    "    return bool(noise)\n",
    "\n",
    "def get_experiment_paths(\n",
    "    dataset,\n",
    "    noise,\n",
    "    improved=False,\n",
    "    improvement_type=\"density\",\n",
    "):\n",
    "    if improved and improvement_type not in [\"density\", \"avg cut\"]:\n",
    "        raise ValueError(\"Unkown improvement type\")\n",
    "        \n",
    "    exp_name = (\"Improved\" if improved else \"\") + EXPERIMENT\n",
    "    d = join(OUTPUT_PATH, dataset, exp_name)\n",
    "    experiments = listdir(d)\n",
    "    experiment_paths = [\n",
    "        join(d, exp)\n",
    "        for exp in experiments\n",
    "        if has_noise(join(d, exp)) == noise\n",
    "    ]\n",
    "    \n",
    "    if not improved:\n",
    "        return experiment_paths\n",
    "        \n",
    "    filtered_experiment_paths = []\n",
    "    for p in experiment_paths:\n",
    "        fold_0 = join(p, \"fold_0\", \"fold_0_weights.json\")\n",
    "        with open(fold_0) as f:\n",
    "            weight_length = len(json.load(f)[\"weights\"])\n",
    "        \n",
    "        if weight_length == 12 and improvement_type == \"density\":\n",
    "            filtered_experiment_paths.append(p)\n",
    "        elif weight_length == 11 and improvement_type == \"avg cut\":\n",
    "            filtered_experiment_paths.append(p)\n",
    "\n",
    "    return filtered_experiment_paths"
   ]
  },
  {
   "cell_type": "code",
   "execution_count": 2,
   "id": "a0562b53",
   "metadata": {},
   "outputs": [],
   "source": [
    "metrics = [\n",
    "    \"ndar\",\n",
    "    \"nhar\",\n",
    "    \"dp\",\n",
    "    \"hp\",\n",
    "    \"ioc\",\n",
    "    \"ovh\",\n",
    "    \"dahr\",\n",
    "    \"avg_waec\",\n",
    "    \"avg_waer\",\n",
    "    \"ovr\",\n",
    "]\n",
    "density_improved = [\n",
    "    \"single density\",\n",
    "    \"multi density\",\n",
    "]\n",
    "degree_improved = [\n",
    "    \"degree cut\"\n",
    "]"
   ]
  },
  {
   "cell_type": "code",
   "execution_count": 19,
   "id": "a4d81403",
   "metadata": {
    "scrolled": false
   },
   "outputs": [
    {
     "data": {
      "image/png": "[encoded data removed]",
      "text/plain": [
       "<Figure size 432x288 with 1 Axes>"
      ]
     },
     "metadata": {
      "needs_background": "light"
     },
     "output_type": "display_data"
    },
    {
     "data": {
      "image/png": "[encoded data removed]",
      "text/plain": [
       "<Figure size 432x288 with 1 Axes>"
      ]
     },
     "metadata": {
      "needs_background": "light"
     },
     "output_type": "display_data"
    }
   ],
   "source": [
    "from pprint import pprint\n",
    "import matplotlib.pyplot as plt\n",
    "\n",
    "\n",
    "improvement = \"avg cut\"\n",
    "\n",
    "effective_metrics = metrics[:]\n",
    "improve = False\n",
    "\n",
    "if improvement == \"density\":\n",
    "    improve = True\n",
    "    effective_metrics.extend(density_improved)\n",
    "if improvement == \"avg cut\":\n",
    "    improve = True\n",
    "    effective_metrics.extend(degree_improved)\n",
    "    \n",
    "\n",
    "for dataset in [\"Deco\"]:\n",
    "    for noise in [False, True]:\n",
    "        experiment_weights = []\n",
    "        for experiment in get_experiment_paths(dataset, noise, improve, improvement):\n",
    "            for fold_num in range(10):\n",
    "                fold_weight_file = join(experiment, f\"fold_{fold_num}\", f\"fold_{fold_num}_weights.json\")\n",
    "                \n",
    "                with open(fold_weight_file) as f:\n",
    "                    fold_weights = json.load(f)[\"weights\"]\n",
    "                experiment_weights.append(fold_weights)\n",
    "        \n",
    "        experiment_weights = list(zip(*experiment_weights))\n",
    "        plt.boxplot(experiment_weights, labels=effective_metrics)\n",
    "        plt.yscale(\"log\")\n",
    "        plt.suptitle(f\"{dataset}\\nNoise = {noise}\\nImprovement: {improvement}\")\n",
    "        plt.show()"
   ]
  },
  {
   "cell_type": "code",
   "execution_count": 18,
   "id": "7c6087c5",
   "metadata": {},
   "outputs": [
    {
     "data": {
      "text/plain": [
       "['../output/FusTe/ImprovedCrossValidationTraining/noise_2_50a00664e3d311eb8689a9671f801994',\n",
       " '../output/FusTe/ImprovedCrossValidationTraining/noise_1_509fba10e3d311eb8688a9671f801994',\n",
       " '../output/FusTe/ImprovedCrossValidationTraining/noise_2_bc825d46e18f11eb8687a9671f801994',\n",
       " '../output/FusTe/ImprovedCrossValidationTraining/noise_1_bc818592e18f11eb8687a9671f801994',\n",
       " '../output/FusTe/ImprovedCrossValidationTraining/noise_3_bc827a4ce18f11eb8687a9671f801994',\n",
       " '../output/FusTe/ImprovedCrossValidationTraining/noise_3_509fa070e3d311eb8688a9671f801994']"
      ]
     },
     "execution_count": 18,
     "metadata": {},
     "output_type": "execute_result"
    }
   ],
   "source": [
    "get_experiment_paths(\"FusTe\", True, True, \"density\")"
   ]
  },
  {
   "cell_type": "code",
   "execution_count": null,
   "id": "878f5092",
   "metadata": {},
   "outputs": [],
   "source": []
  }
 ],
 "metadata": {
  "kernelspec": {
   "display_name": "Python 3",
   "language": "python",
   "name": "python3"
  },
  "language_info": {
   "codemirror_mode": {
    "name": "ipython",
    "version": 3
   },
   "file_extension": ".py",
   "mimetype": "text/x-python",
   "name": "python",
   "nbconvert_exporter": "python",
   "pygments_lexer": "ipython3",
   "version": "3.8.10"
  }
 },
 "nbformat": 4,
 "nbformat_minor": 5
}
