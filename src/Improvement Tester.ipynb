{
 "cells": [
  {
   "cell_type": "code",
   "execution_count": 100,
   "id": "a2f4bd64",
   "metadata": {
    "scrolled": true
   },
   "outputs": [
    {
     "name": "stderr",
     "output_type": "stream",
     "text": [
      "  6%|▌         | 37/622 [00:02<00:27, 21.08it/s]/home/tgarrels/.local/lib/python3.8/site-packages/openpyxl/worksheet/header_footer.py:48: UserWarning: Cannot parse header or footer so it will be ignored\n",
      "  warn(\"\"\"Cannot parse header or footer so it will be ignored\"\"\")\n",
      " 36%|███▌      | 221/622 [00:11<00:36, 10.95it/s]/home/tgarrels/.local/lib/python3.8/site-packages/openpyxl/reader/drawings.py:29: UserWarning: DrawingML support is incomplete and limited to charts and images only. Shapes and drawings will be lost.\n",
      "  warn(\"DrawingML support is incomplete and limited to charts and images only. Shapes and drawings will be lost.\")\n",
      " 50%|█████     | 313/622 [00:17<00:42,  7.21it/s]/home/tgarrels/.local/lib/python3.8/site-packages/openpyxl/reader/drawings.py:55: UserWarning: The image xl/media/image1.emf will be removed because it cannot be read\n",
      "  warn(msg)\n",
      " 91%|█████████ | 567/622 [00:28<00:02, 24.64it/s]/home/tgarrels/.local/lib/python3.8/site-packages/openpyxl/reader/drawings.py:59: UserWarning: wmf image format is not supported so the image is being dropped\n",
      "  warn(msg)\n",
      "100%|██████████| 622/622 [00:30<00:00, 20.29it/s]\n"
     ]
    }
   ],
   "source": [
    "from os.path import join\n",
    "from os import getcwd\n",
    "import json\n",
    "from tqdm import tqdm\n",
    "\n",
    "from dataset.Dataset import Dataset\n",
    "from experiments.Analyser import accuracy_based_on_jacard_index\n",
    "from graph.SpreadSheetGraph import SpreadSheetGraph\n",
    "from labelregions.LabelRegionLoader import LabelRegionLoader\n",
    "from search.ExhaustiveSearch import ExhaustiveSearch\n",
    "from search.FitnessRater import FitnessRater, get_initial_weights\n",
    "\n",
    "\n",
    "DATA_DIR = join(getcwd(), \"../data\")\n",
    "OUTPUT_DIR = join(getcwd(), \"output_final/output\")\n",
    "\n",
    "refined_file_path = join(DATA_DIR, \"Deco\", \"refined.json\")\n",
    "with open(refined_file_path) as f:\n",
    "    refined_data = json.load(f)\n",
    "\n",
    "relevant_keys = [key for key, value in refined_data.items()] #  if value[\"edge_count\"] > 10]\n",
    "\n",
    "DECO = Dataset(join(DATA_DIR, \"Deco\"), \"Deco\")\n",
    "FUSTE = Dataset(join(DATA_DIR, \"FusTe\"), \"FusTe\")\n",
    "\n",
    "loader = LabelRegionLoader()\n",
    "\n",
    "graphs = []\n",
    "for sheet in tqdm(DECO.get_sheet_data(loader), total=DECO.sheet_data_count()):\n",
    "    graphs.append(SpreadSheetGraph(sheet))\n"
   ]
  },
  {
   "cell_type": "code",
   "execution_count": 118,
   "id": "a5f88405",
   "metadata": {},
   "outputs": [],
   "source": [
    "from labelregions.LabelRegionType import LabelRegionType\n",
    "from graph.Edge import ConnectionType\n",
    "\n",
    "def header_lrs(graph):\n",
    "    return list(filter(lambda x: x.type == LabelRegionType.HEADER, graph.nodes))\n",
    "\n",
    "def data_lrs(graph):\n",
    "    return list(filter(lambda x: x.type == LabelRegionType.DATA, graph.nodes))\n",
    "\n",
    "def density(graph):\n",
    "    return (2 * len(graph.edge_list)) / (len(graph.nodes) * (len(graph.nodes) - 1))\n",
    "\n",
    "\n",
    "def edges_type_count(graph, connection_type: ConnectionType):\n",
    "    return len([\n",
    "        e\n",
    "        for e in graph.edge_list\n",
    "        if e.connection_type == connection_type\n",
    "    ])"
   ]
  },
  {
   "cell_type": "code",
   "execution_count": 127,
   "id": "ab3ae46d",
   "metadata": {},
   "outputs": [],
   "source": [
    "from graph.Edge import ConnectionType\n",
    "\n",
    "\n",
    "def prediction_metric(graph):\n",
    "    data = data_lrs(graph)\n",
    "    header = header_lrs(graph)\n",
    "    \n",
    "    d_d = edges_type_count(graph, ConnectionType.D_D) + 1\n",
    "    h_h = edges_type_count(graph, ConnectionType.H_H) + 1\n",
    "    h_d = edges_type_count(graph, ConnectionType.D_H) + 1\n",
    "    \n",
    "    try:\n",
    "        d_d_density = 2 * d_d / (len(data) * (len(data) - 1))\n",
    "    except ZeroDivisionError:\n",
    "        # No data or just one data region\n",
    "        d_d_density = 0\n",
    "    try:\n",
    "        h_h_density = 2 * h_h / (len(header) * (len(header) - 1))\n",
    "    except ZeroDivisionError:\n",
    "        # No header or just one header region\n",
    "        h_h_density = 0\n",
    "    \n",
    "    \n",
    "    d_d_degree_avg = d_d / len(data_lrs(graph))\n",
    "    h_h_degree_avg = h_h / len(header_lrs(graph))\n",
    "    best = d_d_degree_avg * h_h_degree_avg\n",
    "    \n",
    "    return best\n",
    "    "
   ]
  },
  {
   "cell_type": "code",
   "execution_count": 123,
   "id": "7a056777",
   "metadata": {},
   "outputs": [],
   "source": [
    "import matplotlib.pyplot as plt\n",
    "from statistics import mean, median\n",
    "\n",
    "\n",
    "def visualize_metric():\n",
    "\n",
    "    single_agg = []\n",
    "    multi_agg = []\n",
    "    for g in graphs:\n",
    "        if 10 < len(g.edge_list) <= 100:\n",
    "            m = prediction_metric(g)\n",
    "            if len(g.get_components()) == 1:\n",
    "                single_agg.append(m)\n",
    "            else:\n",
    "                multi_agg.append(m)\n",
    "    print(median(multi_agg))\n",
    "    print(mean(multi_agg))\n",
    "    plt.hist(single_agg, label=\"single\")\n",
    "    plt.hist(multi_agg, label=\"multi\")\n",
    "    plt.legend()\n",
    "    plt.show()\n",
    "\n",
    "    plt.boxplot([\n",
    "            single_agg,\n",
    "            multi_agg\n",
    "        ],\n",
    "        labels=[\"single\", \"multi\"],\n",
    "        vert=False,\n",
    "        showmeans=True,\n",
    "    )"
   ]
  },
  {
   "cell_type": "code",
   "execution_count": 128,
   "id": "13aed95b",
   "metadata": {
    "scrolled": true
   },
   "outputs": [
    {
     "name": "stdout",
     "output_type": "stream",
     "text": [
      "0.9393382352941176\n",
      "1.062141526293403\n"
     ]
    },
    {
     "data": {
      "image/png": "[encoded data removed]",
      "text/plain": [
       "<Figure size 432x288 with 1 Axes>"
      ]
     },
     "metadata": {
      "needs_background": "light"
     },
     "output_type": "display_data"
    },
    {
     "data": {
      "image/png": "[encoded data removed]",
      "text/plain": [
       "<Figure size 432x288 with 1 Axes>"
      ]
     },
     "metadata": {
      "needs_background": "light"
     },
     "output_type": "display_data"
    }
   ],
   "source": [
    "visualize_metric()"
   ]
  },
  {
   "cell_type": "code",
   "execution_count": 131,
   "id": "07f1c0ab",
   "metadata": {},
   "outputs": [],
   "source": [
    "from random import sample\n",
    "from statistics import median\n",
    "\n",
    "from labelregions.LabelRegionType import LabelRegionType\n",
    "\n",
    "def eval_metric(bound):\n",
    "    \n",
    "    predict_multi = lambda g: prediction_metric(g) <= bound\n",
    "\n",
    "    single_as_multi = 0\n",
    "    multi_as_multi = 0\n",
    "\n",
    "    total_single = 0\n",
    "    total_multi = 0\n",
    "\n",
    "    for g in graphs:\n",
    "        if 10 < len(g.edge_list) <= 100:\n",
    "            components = g.get_components()\n",
    "            if len(components) == 1:\n",
    "                # Single\n",
    "                total_single += 1\n",
    "                multi = predict_multi(g)\n",
    "                if multi:\n",
    "                    single_as_multi += 1\n",
    "            else:\n",
    "                # Multi\n",
    "                total_multi += 1\n",
    "                multi = predict_multi(g)\n",
    "                if multi:\n",
    "                    multi_as_multi += 1\n",
    "\n",
    "    precision = multi_as_multi / (multi_as_multi + single_as_multi)\n",
    "    recall = multi_as_multi / total_multi\n",
    "\n",
    "    # print(single_as_multi)\n",
    "    print(f\"Percent of singles predcited as multi: {single_as_multi / total_single:.4f}\")\n",
    "    # print(multi_as_multi)\n",
    "    print(f\"Percent of multi predcited as multi: {multi_as_multi / total_multi:.4f}\")\n",
    "\n",
    "    print(f\"Precision: {precision}\")\n",
    "    print(f\"Recall: {recall}\")\n",
    "    f1 = 2 * precision * recall\n",
    "    f1 /= precision + recall\n",
    "    print(f\"F1: {f1}\")\n",
    "        \n"
   ]
  },
  {
   "cell_type": "code",
   "execution_count": 136,
   "id": "2fd270d2",
   "metadata": {
    "scrolled": false
   },
   "outputs": [
    {
     "name": "stdout",
     "output_type": "stream",
     "text": [
      "Percent of singles predcited as multi: 0.0524\n",
      "Percent of multi predcited as multi: 0.4048\n",
      "Precision: 0.7727272727272727\n",
      "Recall: 0.40476190476190477\n",
      "F1: 0.5312499999999999\n"
     ]
    }
   ],
   "source": [
    "eval_metric(0.8)"
   ]
  },
  {
   "cell_type": "code",
   "execution_count": 113,
   "id": "767aa51a",
   "metadata": {},
   "outputs": [],
   "source": [
    "import random\n",
    "\n",
    "def eval_with_folds(fold_num):\n",
    "    multi_graphs = [g for g in graphs if len(g.get_components()) > 1]\n",
    "    single_graphs = [g for g in graphs if len(g.get_components()) == 1]\n",
    "    print(len(multi_graphs))\n",
    "    print(len(single_graphs))\n",
    "    \n",
    "    folds = []\n",
    "    for _ in range(fold_num):\n",
    "        test_single = random.sample(single_graphs, int(len(single_graphs) / fold_num))\n",
    "        test_multi = random.sample(multi_graphs, int(len(multi_graphs) / fold_num))\n",
    "        test = test_single + test_multi\n",
    "        train = [g for g in graphs if g not in test]\n",
    "        folds.append((test, train))\n",
    "        \n",
    "    f1_s = []\n",
    "    for i, (test, train) in enumerate(folds):\n",
    "        print(f\"Fold {i}\")\n",
    "        # Train: Get median of multi-table\n",
    "        multi = [g for g in train if len(g.get_components()) > 1]\n",
    "        results = [prediction_metric(g) for g in multi]\n",
    "        multi_median = median(results)\n",
    "        \n",
    "        # Test: Calc f1 against test set\n",
    "        f1 = eval_metric(test, multi_median)\n",
    "        f1_s.append(f1)\n",
    "\n",
    "def eval_metric(test, bound):\n",
    "    \n",
    "    predict_multi = lambda g: prediction_metric(g) < bound\n",
    "\n",
    "    single_as_multi = 0\n",
    "    multi_as_multi = 0\n",
    "\n",
    "    total_single = 0\n",
    "    total_multi = 0\n",
    "\n",
    "    for g in test:\n",
    "        if 10 < len(g.edge_list) <= 100:\n",
    "            components = g.get_components()\n",
    "            if len(components) == 1:\n",
    "                # Single\n",
    "                total_single += 1\n",
    "                multi = predict_multi(g)\n",
    "                if multi:\n",
    "                    single_as_multi += 1\n",
    "            else:\n",
    "                # Multi\n",
    "                total_multi += 1\n",
    "                multi = predict_multi(g)\n",
    "                if multi:\n",
    "                    multi_as_multi += 1\n",
    "    \n",
    "\n",
    "\n",
    "    # print(single_as_multi)\n",
    "    print(f\"Percent of singles predcited as multi: {single_as_multi / total_single:.4f}\")\n",
    "    if multi_as_multi == 0:\n",
    "        return 0\n",
    "    # print(multi_as_multi)\n",
    "    print(f\"Percent of multi predcited as multi: {multi_as_multi / total_multi:.4f}\")\n",
    "    \n",
    "\n",
    "    precision = multi_as_multi / (multi_as_multi + single_as_multi)\n",
    "    recall = multi_as_multi / total_multi\n",
    "    print(f\"Precision: {precision}\")\n",
    "    print(f\"Recall: {recall}\")\n",
    "    f1 = 2 * precision * recall\n",
    "    f1 /= precision + recall\n",
    "    print(f\"F1: {f1}\")\n",
    "    return f1\n",
    "        \n"
   ]
  },
  {
   "cell_type": "code",
   "execution_count": 116,
   "id": "7630c100",
   "metadata": {},
   "outputs": [
    {
     "name": "stdout",
     "output_type": "stream",
     "text": [
      "129\n",
      "493\n",
      "Fold 0\n",
      "Percent of singles predcited as multi: 0.0588\n",
      "Percent of multi predcited as multi: 0.7143\n",
      "Precision: 0.8333333333333334\n",
      "Recall: 0.7142857142857143\n",
      "F1: 0.7692307692307692\n",
      "Fold 1\n",
      "Percent of singles predcited as multi: 0.0476\n",
      "Percent of multi predcited as multi: 0.5000\n",
      "Precision: 0.8\n",
      "Recall: 0.5\n",
      "F1: 0.6153846153846154\n",
      "Fold 2\n",
      "Percent of singles predcited as multi: 0.1000\n",
      "Percent of multi predcited as multi: 0.3750\n",
      "Precision: 0.6\n",
      "Recall: 0.375\n",
      "F1: 0.4615384615384615\n",
      "Fold 3\n",
      "Percent of singles predcited as multi: 0.0455\n",
      "Percent of multi predcited as multi: 0.7143\n",
      "Precision: 0.8333333333333334\n",
      "Recall: 0.7142857142857143\n",
      "F1: 0.7692307692307692\n",
      "Fold 4\n",
      "Percent of singles predcited as multi: 0.0952\n",
      "Percent of multi predcited as multi: 0.6250\n",
      "Precision: 0.7142857142857143\n",
      "Recall: 0.625\n",
      "F1: 0.6666666666666666\n",
      "Fold 5\n",
      "Percent of singles predcited as multi: 0.0588\n",
      "Fold 6\n",
      "Percent of singles predcited as multi: 0.1250\n",
      "Percent of multi predcited as multi: 0.2500\n",
      "Precision: 0.4\n",
      "Recall: 0.25\n",
      "F1: 0.3076923076923077\n",
      "Fold 7\n",
      "Percent of singles predcited as multi: 0.0952\n",
      "Percent of multi predcited as multi: 0.1250\n",
      "Precision: 0.3333333333333333\n",
      "Recall: 0.125\n",
      "F1: 0.18181818181818182\n",
      "Fold 8\n",
      "Percent of singles predcited as multi: 0.0556\n",
      "Percent of multi predcited as multi: 0.5556\n",
      "Precision: 0.8333333333333334\n",
      "Recall: 0.5555555555555556\n",
      "F1: 0.6666666666666667\n",
      "Fold 9\n",
      "Percent of singles predcited as multi: 0.1429\n",
      "Percent of multi predcited as multi: 0.3333\n",
      "Precision: 0.4\n",
      "Recall: 0.3333333333333333\n",
      "F1: 0.3636363636363636\n"
     ]
    }
   ],
   "source": [
    "eval_with_folds(10)"
   ]
  },
  {
   "cell_type": "code",
   "execution_count": null,
   "id": "fdfe0c33",
   "metadata": {},
   "outputs": [],
   "source": []
  }
 ],
 "metadata": {
  "kernelspec": {
   "display_name": "Python 3",
   "language": "python",
   "name": "python3"
  },
  "language_info": {
   "codemirror_mode": {
    "name": "ipython",
    "version": 3
   },
   "file_extension": ".py",
   "mimetype": "text/x-python",
   "name": "python",
   "nbconvert_exporter": "python",
   "pygments_lexer": "ipython3",
   "version": "3.8.10"
  }
 },
 "nbformat": 4,
 "nbformat_minor": 5
}
