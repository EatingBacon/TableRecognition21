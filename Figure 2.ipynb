{
 "cells": [
  {
   "cell_type": "code",
   "execution_count": 1,
   "id": "1a60347b",
   "metadata": {},
   "outputs": [],
   "source": [
    "DATASET_NAME = \"Deco\"\n",
    "\n",
    "DATA_DIR = \"data\"\n",
    "REFINED_PATH = f\"output/{DATASET_NAME}/refined.json\""
   ]
  },
  {
   "cell_type": "markdown",
   "id": "ccc77d9a",
   "metadata": {},
   "source": [
    "# Figure 2\n",
    "An overview over the datasets"
   ]
  },
  {
   "cell_type": "markdown",
   "id": "9bf55204",
   "metadata": {},
   "source": [
    "## Figure 2a - Multi-Table-Sheets"
   ]
  },
  {
   "cell_type": "code",
   "execution_count": 2,
   "id": "669d9370",
   "metadata": {},
   "outputs": [],
   "source": [
    "from os.path import join\n",
    "import json\n",
    "\n",
    "\n",
    "with open(REFINED_PATH) as f:\n",
    "    refined_data = json.load(f)\n",
    "    \n",
    "table_count_frequencies = {}\n",
    "for key, refined in refined_data.items():\n",
    "    table_count = refined[\"table_count\"]\n",
    "    table_count_frequencies[table_count] = table_count_frequencies.get(table_count, []) + [key]\n",
    "\n",
    "for table_count, sheet_names in table_count_frequencies.items():\n",
    "    table_count_frequencies[table_count] = len(sheet_names)\n"
   ]
  },
  {
   "cell_type": "code",
   "execution_count": 3,
   "id": "fd6f2278",
   "metadata": {},
   "outputs": [],
   "source": [
    "data = {}\n",
    "data[10] = 0\n",
    "\n",
    "for key, value in table_count_frequencies.items():\n",
    "    if key >= 10:\n",
    "        data[10] += value\n",
    "    elif key > 1:\n",
    "        data[key] = value\n",
    "    else:\n",
    "        continue\n",
    "\n",
    "sheets_with_more_than_10_tables = sum([v for k, v in table_count_frequencies.items() if k > 10])\n",
    "avg_table_per_sheet = sum([k * v for k, v in table_count_frequencies.items()]) / len(refined_data.keys())\n",
    "\n",
    "summary_text = \"\\n\".join([\n",
    "    f\"#sheets 1 table = {table_count_frequencies[1]}\",\n",
    "    f\"#sheets > 10 tables = {sheets_with_more_than_10_tables}\",\n",
    "    f\"max #tables = {max(table_count_frequencies.keys())}\",\n",
    "    f\"avg # tables = {avg_table_per_sheet}\"\n",
    "])"
   ]
  },
  {
   "cell_type": "code",
   "execution_count": 4,
   "id": "f7b0e944",
   "metadata": {},
   "outputs": [
    {
     "data": {
      "text/plain": [
       "Text(0.9, 0.9, '#sheets 1 table = 493\\n#sheets > 10 tables = 3\\nmax #tables = 49\\navg # tables = 1.5787781350482315')"
      ]
     },
     "execution_count": 4,
     "metadata": {},
     "output_type": "execute_result"
    },
    {
     "data": {
      "image/png": "[encoded data removed]",
      "text/plain": [
       "<Figure size 432x288 with 1 Axes>"
      ]
     },
     "metadata": {
      "needs_background": "light"
     },
     "output_type": "display_data"
    }
   ],
   "source": [
    "import matplotlib.pyplot as plt\n",
    "\n",
    "fig = plt.figure()\n",
    "\n",
    "ax = plt.subplot()\n",
    "\n",
    "ax.set_xlabel(\"#Tables\")\n",
    "ax.set_ylabel(\"#Sheets\")\n",
    "\n",
    "ax.set_xticks(range(1, 11))\n",
    "ax.set_xticklabels([str(i) for i in range(1, 10)] + [\"10+\"])\n",
    "\n",
    "ax.bar(\n",
    "    data.keys(),\n",
    "    data.values(),\n",
    ")\n",
    "\n",
    "plt.text(0.9, 0.9,summary_text,\n",
    "     horizontalalignment='center',\n",
    "     verticalalignment='center',\n",
    "     transform = ax.transAxes)"
   ]
  },
  {
   "cell_type": "markdown",
   "id": "90e64108",
   "metadata": {},
   "source": [
    "_Only for Deco, as there a comparison to the paper is possible_\n",
    "\n",
    "\n",
    "While the plot looks really similar, the number are different. This is simply because we filtered out some sheet because of their size or because they contained hidden columns or rows.\n",
    "\n",
    "However, this difference in dataset can not be the reason for an __increase__ on `max #tables`.\n",
    "\n",
    "\n",
    "Investigation follows in the next few cells of this section."
   ]
  },
  {
   "cell_type": "code",
   "execution_count": 5,
   "id": "adc66be4",
   "metadata": {},
   "outputs": [
    {
     "name": "stdout",
     "output_type": "stream",
     "text": [
      "The Key with the most tables is jason_wolfe__13485__daily historical usage values.xlsx_Sheet1.csv!\n",
      "It has 49 tables in the preprocessed annotations!\n",
      "And 49 tables in the raw annotations!\n"
     ]
    }
   ],
   "source": [
    "\n",
    "l = []\n",
    "\n",
    "max_n_regions = 0\n",
    "max_key = \"\"\n",
    "for key, sheet_data in refined_data.items():\n",
    "    l.append((key, sheet_data[\"table_count\"]))\n",
    "    if sheet_data[\"table_count\"] > max_n_regions:\n",
    "        max_n_regions = sheet_data[\"table_count\"]\n",
    "        max_key = key\n",
    "print(f\"The Key with the most tables is {max_key}!\")\n",
    "print(f\"It has {max_n_regions} tables in the preprocessed annotations!\")\n",
    "\n",
    "annotation_path = join(DATA_DIR, DATASET_NAME, \"annotations_elements.json\")\n",
    "with open(annotation_path) as f:\n",
    "    annotation_data = json.load(f)\n",
    "\n",
    "max_key_data = annotation_data[max_key]\n",
    "tables = [region for region in max_key_data[\"regions\"] if region[\"region_type\"] == \"Table\"]\n",
    "print(f\"And {len(tables)} tables in the raw annotations!\")\n"
   ]
  },
  {
   "cell_type": "code",
   "execution_count": 6,
   "id": "f468d428",
   "metadata": {},
   "outputs": [
    {
     "data": {
      "text/plain": [
       "[('jason_wolfe__13485__daily historical usage values.xlsx_Sheet1.csv', 49),\n",
       " ('mark_taylor__24725__ClickInTradingProducts.xlsx_DatabaseTABLES.csv', 17),\n",
       " ('juan_hernandez__17717__PJM_Cinergy Prices.xlsx_Sheet1.csv', 16),\n",
       " ('lindy_donoho__22013__RedRockAllocSumm.xlsx_Dec 4,2001.csv', 10),\n",
       " ('lynn_blair__24335__MS Directory by Teams.xlsx_Sheet1.csv', 10)]"
      ]
     },
     "execution_count": 6,
     "metadata": {},
     "output_type": "execute_result"
    }
   ],
   "source": [
    "sorted(l, key=lambda x: x[1], reverse=True)[:5]"
   ]
  },
  {
   "cell_type": "markdown",
   "id": "b184c3b5",
   "metadata": {},
   "source": [
    "We find out that `jason_wolfe__13485__daily historical usage values.xlsx_Sheet1.csv` is the sheet with 49 tables, and is persumably missing from the authors dataset. The next biggest table count is in `mark_taylor__24725__ClickInTradingProducts.xlsx_DatabaseTABLES.csv` which is the only one with 17 tables, which matches the authors highest count!\n",
    "\n",
    "Either our dataset contains more data, or the authors filtered out this sheet."
   ]
  },
  {
   "cell_type": "markdown",
   "id": "104da045",
   "metadata": {},
   "source": [
    "## Figure 2b - Edge Counts"
   ]
  },
  {
   "cell_type": "code",
   "execution_count": 10,
   "id": "5c0c325f",
   "metadata": {},
   "outputs": [],
   "source": [
    "edges = []\n",
    "for key, value in refined_data.items():\n",
    "    \n",
    "    edges.append({\n",
    "        \"edge_count\": value[\"edge_count\"],\n",
    "        \"is_multi_table\": value[\"table_count\"] > 1,\n",
    "    })\n",
    "    \n",
    "single_table = [t[\"edge_count\"] for t in edges if not t[\"is_multi_table\"]]\n",
    "multi_table = [t[\"edge_count\"] for t in edges if t[\"is_multi_table\"]]"
   ]
  },
  {
   "cell_type": "code",
   "execution_count": 11,
   "id": "979ec96c",
   "metadata": {
    "scrolled": false
   },
   "outputs": [
    {
     "data": {
      "text/plain": [
       "<matplotlib.legend.Legend at 0x7fd31a4a97c0>"
      ]
     },
     "execution_count": 11,
     "metadata": {},
     "output_type": "execute_result"
    },
    {
     "data": {
      "image/png": "[encoded data removed]",
      "text/plain": [
       "<Figure size 432x288 with 1 Axes>"
      ]
     },
     "metadata": {
      "needs_background": "light"
     },
     "output_type": "display_data"
    }
   ],
   "source": [
    "fig = plt.figure()\n",
    "\n",
    "ax = plt.subplot()\n",
    "\n",
    "plt.xscale('log')\n",
    "ax.set_xlabel(\"#Edges\")\n",
    "ax.set_ylabel(\"#Graphs (Sheets)\")\n",
    "ax.hist([single_table, multi_table], bins=[10**i for i in range(5)], label=[\"Single\", \"Multi\"])\n",
    "ax.legend()"
   ]
  },
  {
   "cell_type": "markdown",
   "id": "fdf138e7",
   "metadata": {},
   "source": [
    "## Figure 2c - Horizontal Gaps"
   ]
  },
  {
   "cell_type": "code",
   "execution_count": 32,
   "id": "1e0af4aa",
   "metadata": {},
   "outputs": [],
   "source": [
    "between = []\n",
    "inside = []\n",
    "for key, value in refined_data.items():\n",
    "    between.extend(value[\"xs_between_widths\"])\n",
    "    inside.extend(value[\"xs_inside_widths\"])\n",
    "\n",
    "# Omit outliers\n",
    "between = [x for x in between if x < 80]\n",
    "inside = [x for x in inside if x < 80]"
   ]
  },
  {
   "cell_type": "code",
   "execution_count": 33,
   "id": "ce7cc328",
   "metadata": {},
   "outputs": [
    {
     "data": {
      "text/plain": [
       "{'whiskers': [<matplotlib.lines.Line2D at 0x7fd319a39b80>,\n",
       "  <matplotlib.lines.Line2D at 0x7fd319a39f10>,\n",
       "  <matplotlib.lines.Line2D at 0x7fd319a4f4f0>,\n",
       "  <matplotlib.lines.Line2D at 0x7fd319a4f8b0>],\n",
       " 'caps': [<matplotlib.lines.Line2D at 0x7fd319a432e0>,\n",
       "  <matplotlib.lines.Line2D at 0x7fd319a43670>,\n",
       "  <matplotlib.lines.Line2D at 0x7fd319a4fb50>,\n",
       "  <matplotlib.lines.Line2D at 0x7fd319a4fee0>],\n",
       " 'boxes': [<matplotlib.lines.Line2D at 0x7fd319a397f0>,\n",
       "  <matplotlib.lines.Line2D at 0x7fd319a4f160>],\n",
       " 'medians': [<matplotlib.lines.Line2D at 0x7fd319a43a00>,\n",
       "  <matplotlib.lines.Line2D at 0x7fd319a5a2b0>],\n",
       " 'fliers': [<matplotlib.lines.Line2D at 0x7fd319a43d90>,\n",
       "  <matplotlib.lines.Line2D at 0x7fd319a5a640>],\n",
       " 'means': []}"
      ]
     },
     "execution_count": 33,
     "metadata": {},
     "output_type": "execute_result"
    },
    {
     "data": {
      "image/png": "[encoded data removed]",
      "text/plain": [
       "<Figure size 432x288 with 1 Axes>"
      ]
     },
     "metadata": {
      "needs_background": "light"
     },
     "output_type": "display_data"
    }
   ],
   "source": [
    "fig = plt.figure()\n",
    "\n",
    "ax = plt.subplot()\n",
    "\n",
    "ax.set_xlabel(\"Column Widths\")\n",
    "plt.boxplot([inside, between], vert=False, labels=[\"inside\", \"between\"])"
   ]
  }
 ],
 "metadata": {
  "kernelspec": {
   "display_name": "Python 3",
   "language": "python",
   "name": "python3"
  },
  "language_info": {
   "codemirror_mode": {
    "name": "ipython",
    "version": 3
   },
   "file_extension": ".py",
   "mimetype": "text/x-python",
   "name": "python",
   "nbconvert_exporter": "python",
   "pygments_lexer": "ipython3",
   "version": "3.8.6"
  }
 },
 "nbformat": 4,
 "nbformat_minor": 5
}
